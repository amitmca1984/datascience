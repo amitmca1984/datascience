{
 "cells": [
  {
   "cell_type": "code",
   "execution_count": 7,
   "id": "045c3d3d-13bb-461e-a333-561767bb6117",
   "metadata": {},
   "outputs": [
    {
     "name": "stdout",
     "output_type": "stream",
     "text": [
      "1\n",
      "2\n",
      "3\n",
      "4\n",
      "10\n",
      "9\n",
      "8\n",
      "7\n",
      "6\n"
     ]
    }
   ],
   "source": [
    "# 2 feb assignment data science course\n",
    "#Q1 for loop is used when we know number of iterations of loop in advance\n",
    " \n",
    "for i in range(1,5):\n",
    "    print(i)\n",
    "    \n",
    "# while loop is used when we donot exactly know about number of iterations of loop in advance\n",
    "a=10\n",
    "while (a>5):\n",
    "    print(a)\n",
    "    a=a-1"
   ]
  },
  {
   "cell_type": "code",
   "execution_count": 7,
   "id": "26d25460-e9f9-4aa7-9f72-2ffd5c744bc5",
   "metadata": {},
   "outputs": [
    {
     "name": "stdout",
     "output_type": "stream",
     "text": [
      "the sum using while loop  is 55\n",
      "the sum using for loop is 55\n",
      "the product of first 10 natural number using while loop is 3628800\n",
      "the product using for loop is 3628800\n"
     ]
    }
   ],
   "source": [
    "# Q2 sum and product of number using while  and for loop\n",
    "sum=0\n",
    "j=1\n",
    "while(j<=10):\n",
    "    sum=sum+ j\n",
    "    j=j+1\n",
    "print(\"the sum using while loop  is\",sum)\n",
    "\n",
    "#using for loop\n",
    "sum1=0\n",
    "for a in range(1,11):\n",
    "     sum1= sum1 +a\n",
    "    \n",
    "print(\"the sum using for loop is\",sum1)\n",
    "\n",
    "# product of number using while  and for loop\n",
    "pro=1\n",
    "j=1\n",
    "while(j<=10):\n",
    "    pro=pro *j\n",
    "    j=j+1\n",
    "print(\"the product of first 10 natural number using while loop is\",pro)\n",
    "pro1=1\n",
    "for a in range(1,11):\n",
    "    pro1=pro1*a\n",
    "print(\"the product using for loop is\",pro1)\n",
    "\n"
   ]
  },
  {
   "cell_type": "code",
   "execution_count": 15,
   "id": "7a5f8e32-f06f-4b11-ae94-3fc38f020253",
   "metadata": {},
   "outputs": [
    {
     "name": "stdin",
     "output_type": "stream",
     "text": [
      " enter meter reading 310\n"
     ]
    },
    {
     "name": "stdout",
     "output_type": "stream",
     "text": [
      "the bill is  2250.0\n"
     ]
    }
   ],
   "source": [
    "\"\"\" q3 The per-unit charges in rupees are as follows: For the first 100 units, the user will be charged Rs. 4.5 per\n",
    "unit, for the next 100 units, the user will be charged Rs. 6 per unit, and for the next 100 units, the user will\n",
    "be charged Rs. 10 per unit, After 300 units and above the user will be charged Rs. 20 per unit.\"\"\"\n",
    "bill =0\n",
    "reading= int(input(\" enter meter reading\"))\n",
    "if(reading >300):\n",
    "    bill = 20*(reading -300) + 10*100+ 6*100 + 4.5*100\n",
    "elif (reading>200) :\n",
    "    bill = 10*(reading -200) + 6*100 + 4.5*100\n",
    "elif (reading>100) :\n",
    "    bill = 6*(reading -100)  + 4.5*100\n",
    "else :\n",
    "    bill = 4.5 * reading\n",
    "\n",
    "print(\"the bill is \",bill)\n",
    "\n",
    "    \n",
    "\n"
   ]
  },
  {
   "cell_type": "code",
   "execution_count": 4,
   "id": "d2046691-908c-4c9e-908c-708b4e9ff1a8",
   "metadata": {},
   "outputs": [
    {
     "name": "stdout",
     "output_type": "stream",
     "text": [
      "4\n",
      "5\n",
      "8\n",
      "10\n",
      "12\n",
      "15\n",
      "16\n",
      "20\n",
      "24\n",
      "25\n",
      "28\n",
      "30\n",
      "32\n",
      "35\n",
      "36\n",
      "40\n",
      "44\n",
      "45\n",
      "48\n",
      "50\n",
      "52\n",
      "55\n",
      "56\n",
      "60\n",
      "64\n",
      "65\n",
      "68\n",
      "70\n",
      "72\n",
      "75\n",
      "76\n",
      "80\n",
      "84\n",
      "85\n",
      "88\n",
      "90\n",
      "92\n",
      "95\n",
      "96\n",
      "100\n"
     ]
    }
   ],
   "source": [
    "\"\"\"Q4. Create a list of numbers from 1 to 100. Use for loop and while loop to calculate the cube of each\n",
    "number and if the cube of that number is divisible by 4 or 5 then append that number in a list and print\n",
    "that list.\"\"\"\n",
    "list=[]\n",
    "cube =[]\n",
    "for i in range(1,101):\n",
    "    list.append(i)\n",
    "for i in range(len(list)):\n",
    "    if (list[i])%4==0 or  (list[i])%5 ==0:\n",
    "        cube.append(list[i])\n",
    "for i in range(len(cube)):\n",
    "    print(cube[i])\n",
    "        "
   ]
  },
  {
   "cell_type": "code",
   "execution_count": 13,
   "id": "ef3cc5da-7992-4f19-a2a1-bb7cd43a966d",
   "metadata": {},
   "outputs": [
    {
     "name": "stdout",
     "output_type": "stream",
     "text": [
      "no of vowels are 14\n"
     ]
    }
   ],
   "source": [
    "\"\"\"Q5. Write a program to filter count vowels in the below-given string.\n",
    "string = \"I want to become a data scientist\"\"\"\n",
    "string = \"I want to become a data scientist\"\n",
    "count =0\n",
    "list=['a','e','i','o','u','s','A','E','I','O','U','S']\n",
    "for i in string:\n",
    "    if i in list:\n",
    "        count=count +1\n",
    "print(\"no of vowels are\",count)\n",
    "\n"
   ]
  },
  {
   "cell_type": "code",
   "execution_count": null,
   "id": "37f99889-895c-47cd-9126-08f80cf89403",
   "metadata": {},
   "outputs": [],
   "source": []
  }
 ],
 "metadata": {
  "kernelspec": {
   "display_name": "Python 3 (ipykernel)",
   "language": "python",
   "name": "python3"
  },
  "language_info": {
   "codemirror_mode": {
    "name": "ipython",
    "version": 3
   },
   "file_extension": ".py",
   "mimetype": "text/x-python",
   "name": "python",
   "nbconvert_exporter": "python",
   "pygments_lexer": "ipython3",
   "version": "3.10.8"
  }
 },
 "nbformat": 4,
 "nbformat_minor": 5
}
