{
 "cells": [
  {
   "cell_type": "code",
   "execution_count": 2,
   "id": "b75f7366-088b-4334-9236-a0b4cb4b3a94",
   "metadata": {},
   "outputs": [
    {
     "data": {
      "text/plain": [
       "[1, 3, 5, 7, 9, 11, 13, 15, 17, 19, 21, 23, 25]"
      ]
     },
     "execution_count": 2,
     "metadata": {},
     "output_type": "execute_result"
    }
   ],
   "source": [
    "\"\"\"Q1. Which keyword is used to create a function? Create a function to return a list of odd numbers in the\n",
    "range of 1 to 25.\"\"\"\n",
    "\n",
    "\n",
    "# def keyword is usewd to create function\n",
    "\n",
    "def odd():\n",
    "    list1 =[]\n",
    "    for i in range(1,26):\n",
    "        if i%2!=0:\n",
    "            list1.append(i)\n",
    "    return list1\n",
    "\n",
    "odd()"
   ]
  },
  {
   "cell_type": "code",
   "execution_count": 19,
   "id": "885e3b00-ff61-412f-99a4-50344ff3ab35",
   "metadata": {},
   "outputs": [
    {
     "data": {
      "text/plain": [
       "{'a': 'amit', 'b': 'rahul'}"
      ]
     },
     "execution_count": 19,
     "metadata": {},
     "output_type": "execute_result"
    }
   ],
   "source": [
    "\"\"\"Q2. Why *args and **kwargs is used in some functions? Create a function each for *args and **kwargs\n",
    "to demonstrate their use.\"\"\"\n",
    "\n",
    "# * args is used to send multiple values to function and if function return *args it will return tuple where as **kwargs is use to send key value pair\n",
    "# values to function and if function return this , it will return a dictionary\n",
    " \n",
    "# * args example\n",
    "\n",
    "def test(*args):\n",
    "    return args[1]\n",
    "\n",
    "test(1,\"amit\",[1,2,3,4])\n",
    "\n",
    "def test1(**kwargs):\n",
    "    return kwargs\n",
    "\n",
    "test1(a=\"amit\",b=\"rahul\")\n"
   ]
  },
  {
   "cell_type": "code",
   "execution_count": 24,
   "id": "51e08e73-f9ac-44a8-9e0e-e028008989eb",
   "metadata": {},
   "outputs": [
    {
     "name": "stdout",
     "output_type": "stream",
     "text": [
      "2\n",
      "4\n",
      "6\n",
      "8\n",
      "10\n"
     ]
    }
   ],
   "source": [
    "\"\"\"Q3. What is an iterator in python? Name the method used to initialise the iterator object and the method\n",
    "used for iteration. Use these methods to print the first five elements of the given list [2, 4, 6, 8, 10, 12, 14,\n",
    "16, 18, 20].\"\"\"\n",
    "\n",
    "\"\"\" ans 3 Iterator in Python is an object that is used to iterate over iterable objects like lists, tuples, dicts, and sets. \n",
    "The iterator object is initialized using the iter() method. It uses the next() method for iteration.\"\"\"\n",
    "\n",
    "list = [2, 4, 6, 8, 10, 12, 14,16, 18, 20]\n",
    "var= iter(list)\n",
    "print(next(var))\n",
    "print(next(var))\n",
    "print(next(var))\n",
    "print(next(var))\n",
    "print(next(var))\n"
   ]
  },
  {
   "cell_type": "code",
   "execution_count": 6,
   "id": "132224a0-399f-48eb-8a93-84d301608173",
   "metadata": {},
   "outputs": [
    {
     "name": "stdout",
     "output_type": "stream",
     "text": [
      "<class 'generator'>\n",
      "1\n",
      "2\n"
     ]
    }
   ],
   "source": [
    "\"\"\"Q4. What is a generator function in python? Why yield keyword is used? Give an example of a generator\n",
    "function.\"\"\"\n",
    "\n",
    "\"\"\"ans 4  A generator is a special type of function which does not return a single value, instead, it returns an iterator object with a sequence of \n",
    "values.In a generator function, a yield statement is used rather than a return statement.Its execution is paused on encountering the yield keyword.\n",
    "The function resumes when next() is issued to the iterator object. The function finally terminates when next() encounters the StopIteration error.\n",
    "This sends the first value of the iterator stream to the calling environment. However, local variables and their states are saved internally.\n",
    "One of the advantages of the generator over the iterator is that elements are generated dynamically. Since the next item is generated only \n",
    "after the first is consumed, it is more memory efficient than the iterator.\"\"\"\n",
    "\n",
    "#example\n",
    "def test():\n",
    "    for i in range(1,5):\n",
    "        yield i\n",
    "\n",
    "x= test()\n",
    "print(type(x))\n",
    "print(next(x))\n",
    "print(next(x))\n",
    "        "
   ]
  },
  {
   "cell_type": "code",
   "execution_count": 23,
   "id": "3518a724-eea0-4a82-84c1-0e71a5eb4a95",
   "metadata": {},
   "outputs": [
    {
     "name": "stdout",
     "output_type": "stream",
     "text": [
      "2\n",
      "3\n",
      "5\n",
      "7\n",
      "11\n",
      "13\n",
      "17\n",
      "19\n",
      "23\n",
      "29\n",
      "31\n",
      "37\n",
      "41\n",
      "43\n",
      "47\n",
      "53\n",
      "59\n",
      "61\n",
      "67\n",
      "71\n"
     ]
    }
   ],
   "source": [
    "\"\"\"Q5. Create a generator function for prime numbers less than 1000. Use the next() method to print the\n",
    "first 20 prime numbers.\"\"\"\n",
    "def prime1():\n",
    "    list =[]\n",
    "    for i in range(2,1000):\n",
    "        j=2\n",
    "        flag =0\n",
    "        while(j<i and  flag ==0):\n",
    "            if (i%j==0):\n",
    "                \n",
    "                flag =1\n",
    "                break\n",
    "            j=j+1\n",
    "        if(flag==0):\n",
    "            yield i\n",
    " \n",
    "t = iter(prime1())\n",
    "for i in range(0,20):\n",
    "    print(next(t))        \n",
    "            "
   ]
  },
  {
   "cell_type": "code",
   "execution_count": 32,
   "id": "ad631203-fc7b-4c6e-93a9-fc6d02f7c46e",
   "metadata": {},
   "outputs": [
    {
     "name": "stdout",
     "output_type": "stream",
     "text": [
      "0 1 1 2 3 5 8 13 21 34 "
     ]
    }
   ],
   "source": [
    "\"\"\"Q6. Write a python program to print the first 10 Fibonacci numbers using a while loop.\"\"\"\n",
    "#ans 6\n",
    "a=1\n",
    "b=-1\n",
    "i=1\n",
    "while(i<=10):\n",
    "    c=a+b\n",
    "    print(c,end=\" \")\n",
    "    b=a\n",
    "    a=c\n",
    "    i= i+1"
   ]
  },
  {
   "cell_type": "code",
   "execution_count": 34,
   "id": "efcebcfa-898b-4e5e-b7ee-1de236744f88",
   "metadata": {},
   "outputs": [
    {
     "data": {
      "text/plain": [
       "['p', 'w', 's', 'k', 'i', 'l', 'l', 's']"
      ]
     },
     "execution_count": 34,
     "metadata": {},
     "output_type": "execute_result"
    }
   ],
   "source": [
    "\"\"\"Q7. Write a List Comprehension to iterate through the given string: ‘pwskills’.\n",
    "Expected output: ['p', 'w', 's', 'k', 'i', 'l', 'l', 's']\"\"\"\n",
    "#ans 7\n",
    "[i for i in 'pwskills']\n"
   ]
  },
  {
   "cell_type": "code",
   "execution_count": 4,
   "id": "b3399a16-c850-4488-9f67-0a40a9484d4f",
   "metadata": {},
   "outputs": [
    {
     "name": "stdin",
     "output_type": "stream",
     "text": [
      "enter number 123\n"
     ]
    },
    {
     "name": "stdout",
     "output_type": "stream",
     "text": [
      "321\n",
      "no is not palidrome\n"
     ]
    }
   ],
   "source": [
    "\"\"\"Q8. Write a python program to check whether a given number is Palindrome or not using a while loop.\"\"\"\n",
    "# ans 8\n",
    "i= int(input(\"enter number\"))\n",
    "\n",
    "a=i\n",
    "no=0\n",
    "\n",
    "while(int(a) > 0):\n",
    "    no= no*10 + a%10\n",
    "    a=int(a/10)\n",
    "print(no)\n",
    "if(i==no):\n",
    "    print(\"no is palidrome\")\n",
    "else:\n",
    "    print(\"no is not palidrome\")\n",
    "        \n",
    "\n"
   ]
  },
  {
   "cell_type": "code",
   "execution_count": 11,
   "id": "99490fc1-2caa-4bc0-afda-53d57909f4fa",
   "metadata": {},
   "outputs": [
    {
     "data": {
      "text/plain": [
       "[1,\n",
       " 3,\n",
       " 5,\n",
       " 7,\n",
       " 9,\n",
       " 11,\n",
       " 13,\n",
       " 15,\n",
       " 17,\n",
       " 19,\n",
       " 21,\n",
       " 23,\n",
       " 25,\n",
       " 27,\n",
       " 29,\n",
       " 31,\n",
       " 33,\n",
       " 35,\n",
       " 37,\n",
       " 39,\n",
       " 41,\n",
       " 43,\n",
       " 45,\n",
       " 47,\n",
       " 49,\n",
       " 51,\n",
       " 53,\n",
       " 55,\n",
       " 57,\n",
       " 59,\n",
       " 61,\n",
       " 63,\n",
       " 65,\n",
       " 67,\n",
       " 69,\n",
       " 71,\n",
       " 73,\n",
       " 75,\n",
       " 77,\n",
       " 79,\n",
       " 81,\n",
       " 83,\n",
       " 85,\n",
       " 87,\n",
       " 89,\n",
       " 91,\n",
       " 93,\n",
       " 95,\n",
       " 97,\n",
       " 99]"
      ]
     },
     "execution_count": 11,
     "metadata": {},
     "output_type": "execute_result"
    }
   ],
   "source": [
    "\"\"\"Q9. Write a code to print odd numbers from 1 to 100 using list comprehension.\n",
    "Note: Use a list comprehension to create a list from 1 to 100 and use another List comprehension to filter\n",
    "out odd numbers.\"\"\"\n",
    "# ans 9\n",
    "[j for j in [i for i in range(1,101)] if(j%2!=0)]"
   ]
  },
  {
   "cell_type": "code",
   "execution_count": null,
   "id": "432302d0-3c6e-47e7-a80b-10011b7d1420",
   "metadata": {},
   "outputs": [],
   "source": []
  }
 ],
 "metadata": {
  "kernelspec": {
   "display_name": "Python 3 (ipykernel)",
   "language": "python",
   "name": "python3"
  },
  "language_info": {
   "codemirror_mode": {
    "name": "ipython",
    "version": 3
   },
   "file_extension": ".py",
   "mimetype": "text/x-python",
   "name": "python",
   "nbconvert_exporter": "python",
   "pygments_lexer": "ipython3",
   "version": "3.10.8"
  }
 },
 "nbformat": 4,
 "nbformat_minor": 5
}
